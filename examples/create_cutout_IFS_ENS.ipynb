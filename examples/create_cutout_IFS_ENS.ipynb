{
 "cells": [
  {
   "cell_type": "markdown",
   "id": "1bba6bc8",
   "metadata": {},
   "source": [
    "# Creating a Cutout with ECMWF ensemble forecast"
   ]
  },
  {
   "cell_type": "markdown",
   "id": "9d256112",
   "metadata": {},
   "source": [
    "In this example we download ECMWF ensemble forecast **open-data** for a cutout we want to create.\n",
    "\n",
    "This only works if you have in before\n",
    "\n",
    "* Installed the ECMWF `ecmwf-opendata` package\n",
    "* Documentation on how to use `ecmwf-opendata` to download data [on their website here](https://github.com/ecmwf/ecmwf-opendata)"
   ]
  },
  {
   "cell_type": "markdown",
   "id": "53dc025c",
   "metadata": {},
   "source": [
    "Import the package first:"
   ]
  },
  {
   "cell_type": "code",
   "execution_count": null,
   "id": "dbd184c1",
   "metadata": {},
   "outputs": [],
   "source": [
    "import atlite\n",
    "\n",
    "import logging\n",
    "\n",
    "logging.basicConfig(level=logging.DEBUG)"
   ]
  },
  {
   "cell_type": "code",
   "execution_count": null,
   "id": "be8e6638",
   "metadata": {},
   "outputs": [],
   "source": [
    "cutout = atlite.Cutout(\n",
    "    path=\"test-europe-20250929T00-20251005.nc\",\n",
    "    module=\"ifs_ens\",\n",
    "    x=slice(-13.6913, 1.7712),\n",
    "    y=slice(49.9096, 60.8479),\n",
    "    time=\"2025-10-05\", # the valid date of the forecast\n",
    "    init_time=\"2025-09-29\", # the initial date of the forecast\n",
    "    cycle=0,\n",
    ")"
   ]
  },
  {
   "cell_type": "code",
   "execution_count": null,
   "id": "45b35801",
   "metadata": {},
   "outputs": [],
   "source": [
    "cutout.prepare()"
   ]
  },
  {
   "cell_type": "code",
   "execution_count": null,
   "id": "dc89a358",
   "metadata": {},
   "outputs": [],
   "source": [
    "cutout.data"
   ]
  },
  {
   "cell_type": "code",
   "execution_count": null,
   "id": "86a956ab",
   "metadata": {},
   "outputs": [],
   "source": [
    "cutout.prepared_features"
   ]
  },
  {
   "cell_type": "code",
   "execution_count": null,
   "id": "c015a07f",
   "metadata": {},
   "outputs": [],
   "source": []
  }
 ],
 "metadata": {
  "kernelspec": {
   "display_name": "atlite-NIgfRTeF-py3.12",
   "language": "python",
   "name": "python3"
  },
  "language_info": {
   "codemirror_mode": {
    "name": "ipython",
    "version": 3
   },
   "file_extension": ".py",
   "mimetype": "text/x-python",
   "name": "python",
   "nbconvert_exporter": "python",
   "pygments_lexer": "ipython3",
   "version": "3.12.1"
  }
 },
 "nbformat": 4,
 "nbformat_minor": 5
}
